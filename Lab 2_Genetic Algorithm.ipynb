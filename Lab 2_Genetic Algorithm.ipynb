{
 "cells": [
  {
   "cell_type": "markdown",
   "id": "19195cbc",
   "metadata": {},
   "source": [
    "# Artificial Intelligence\n",
    "## UECS2053/2153 UEMH3073/3163\n",
    "\n",
    "# Lab 2: Genetic Algorithm"
   ]
  },
  {
   "cell_type": "markdown",
   "id": "357d953f",
   "metadata": {},
   "source": [
    "This notebook is an assignment requiring you to investigate the Travelling Salesman Problem. Guidance is provided so you can understand what needs to be done for this assignment as you follow through this lab. Convenience classes and functions/ methods are provided.\n",
    "\n",
    "You will encounter #TODO in the code cells explaining tasks you need to complete. In other words, you will need to write codes and accomplish the #TODO tasks so that the genetic algorithm functions well and runs correctly. Look for \"Replacement starts here\" and \"Replacement ends here\" to know the parts of the codes requiring your inputs.\n",
    "    \n",
    "\n",
    "The #TODO tasks and their marks distribution are as follows:\n",
    " \n",
    "a. #TODO1 (10 marks) in the Population Initialization function. You will read a set of cities from the filename when creating an initial population. \n",
    "\n",
    "b. #TODO2 (10 marks) in the Parent Selection function. You will replace a dummy parent selection function with Tournament Selection. \n",
    "\n",
    "c. #TODO3 (10 marks) in the Parent Selection function. You will replace a dummy parent selection function with Proportional Selection.\n",
    "\n",
    "d. #TODO4 (10 marks) in the Survival Selection function. You will replace the dummy survival selection function with Merge, Sort & Truncate. \n",
    "    \n",
    "e. #TODO5 (10 marks) in the Crossover function. You will replace the dummy crossover function the Partially Mapped Crossover approach.\n",
    "\n",
    "f. #TODO6 (10 marks) in the Mutation function. You will replace the dummy mutation function with Insertion Mutation approach. \n",
    "\n",
    "g. #TODO7 (10 marks) in Performance Evaluation. You will present performance evaluation for the different Parent Selection functions. \n",
    "\n",
    "Marks are also given for: Report Presentation and Formatting (15%) and Code Quality and Comments (15%). More details about this notebook and assignemnt are provided in your lab sheet."
   ]
  },
  {
   "cell_type": "markdown",
   "id": "3a397f6c",
   "metadata": {},
   "source": [
    "## An Overview of the Travelling Salesman Problem"
   ]
  },
  {
   "cell_type": "markdown",
   "id": "770d5880",
   "metadata": {},
   "source": [
    "In the travelling salesman problem, a salesperson wish to find the shortest path that passes through all cities s/he wishes to visit given the coordinates of a set of cities. The salesperson should visit each of the cities once only, and so:\n",
    "\n",
    "a. Each path consists all cities in the set.\n",
    "\n",
    "b. Each path visits each of the cities once only. So, none of the cities are visited more than once. "
   ]
  },
  {
   "cell_type": "markdown",
   "id": "0d5d37c8",
   "metadata": {},
   "source": [
    "## Imports"
   ]
  },
  {
   "cell_type": "code",
   "execution_count": null,
   "id": "86227049",
   "metadata": {},
   "outputs": [],
   "source": [
    "%matplotlib inline\n",
    "\n",
    "# Please add more imports if you need them \n",
    "\n",
    "import random\n",
    "import time\n",
    "import csv\n",
    "import json\n",
    "\n",
    "import numpy as np\n",
    "import pandas as pd\n",
    "import matplotlib.pyplot as plt\n",
    "\n",
    "from pprint import pprint as print \n",
    "from math import hypot"
   ]
  },
  {
   "cell_type": "markdown",
   "id": "420ef0f6",
   "metadata": {},
   "source": [
    "## Convenience Classes"
   ]
  },
  {
   "cell_type": "markdown",
   "id": "c8335dc9",
   "metadata": {},
   "source": [
    "### City"
   ]
  },
  {
   "cell_type": "markdown",
   "id": "793d7c06",
   "metadata": {},
   "source": [
    "The City class, which represents a city, possesses the properties of the city and has functions/ methods used for calculating the distance between the city and another city. Each path, represented by a chromosome, is formed by a set of cities.   "
   ]
  },
  {
   "cell_type": "code",
   "execution_count": null,
   "id": "6a3d4ad0",
   "metadata": {},
   "outputs": [],
   "source": [
    "class City:\n",
    "    def __init__(self, x, y):\n",
    "        self.x = x\n",
    "        self.y = y\n",
    "        \n",
    "    def distance(self, city):\n",
    "        xDis = abs(self.x - city.x)\n",
    "        yDis = abs(self.y - city.y)\n",
    "        distance = hypot(xDis, yDis)\n",
    "        return distance\n",
    "    \n",
    "    def __repr__(self):\n",
    "        return \"(\" + str(self.x) + \",\" + str(self.y) + \")\""
   ]
  },
  {
   "cell_type": "markdown",
   "id": "17c39cd9",
   "metadata": {},
   "source": [
    "### Fitness"
   ]
  },
  {
   "cell_type": "markdown",
   "id": "d1337f65",
   "metadata": {},
   "source": [
    "The Fitness class, which represents the fitness function, possesses the properties of a path and has functions/methods used for calculating the fitness value of the path, which is based on the distance of the path. "
   ]
  },
  {
   "cell_type": "code",
   "execution_count": null,
   "id": "b9eca58a",
   "metadata": {},
   "outputs": [],
   "source": [
    "class Fitness:\n",
    "    def __init__(self, route):\n",
    "        self.route = route\n",
    "        self.distance = None\n",
    "        self.fitness = None\n",
    "    \n",
    "    def routeDistance(self):\n",
    "        if self.distance == None:\n",
    "            pathDistance = 0.0\n",
    "            for i in range(0, len(self.route)):\n",
    "                fromCity = self.route[i]\n",
    "                toCity = None\n",
    "                if i+1 < len(self.route):\n",
    "                    toCity = self.route[i+1]\n",
    "                else:\n",
    "                    toCity = self.route[0]\n",
    "                pathDistance += fromCity.distance(toCity)\n",
    "            self.distance = pathDistance\n",
    "        return self.distance\n",
    "    \n",
    "    def routeFitness(self):\n",
    "        if self.fitness == None:\n",
    "        # Fitness function (Simple division) that uses a simple \n",
    "        # division that divides one by the distance of the path\n",
    "            self.fitness = 1 / float(self.routeDistance()) \n",
    "            # Note: You must ensure a division by zero does not occur \n",
    "        return self.fitness\n"
   ]
  },
  {
   "cell_type": "markdown",
   "id": "e9ecd81d",
   "metadata": {},
   "source": [
    "## Population Initialization  "
   ]
  },
  {
   "cell_type": "markdown",
   "id": "02544afb",
   "metadata": {},
   "source": [
    "The population initialization function (or method) performs random initialization. This creates an initial population with completely random chromosomes (or solutions). There are three functions related to population initialization. \n",
    "\n",
    "The first function is genCityList() which generates a set of cities from a file.  "
   ]
  },
  {
   "cell_type": "code",
   "execution_count": null,
   "id": "9d39ed7e",
   "metadata": {},
   "outputs": [],
   "source": [
    "def genCityList(filename):\n",
    "    cityList = []\n",
    "    \n",
    "    # TODO 1 (10 marks) - Replace the following codes that generate 10 random cities.\n",
    "    # Your new implementation must read a set of cities from the filename to be used for creating \n",
    "    # an initial population.  \n",
    "    \n",
    "    # Marking scheme: \n",
    "    # 7 to 10 marks:  Correct implementation. \n",
    "    # 5 to <7 marks:  Minor errors with slight effects on the fitness value.\n",
    "    # >0 to <5 marks: Major errors with significant effects on the fitness value. \n",
    "    # 0 marks:        No answer is given. \n",
    "    \n",
    "    # Read the data from the file using Pandas, selecting only the x and y columns\n",
    "    df = pd.read_csv(filename, delim_whitespace=True, header=None, usecols=[1, 2], names=['x', 'y'])\n",
    "    \n",
    "    for _, row in df.iterrows():\n",
    "        city = City(float(row['x']), float(row['y']))\n",
    "        cityList.append(city)\n",
    "    \n",
    "    return cityList\n"
   ]
  },
  {
   "cell_type": "markdown",
   "id": "e4888778",
   "metadata": {},
   "source": [
    "The second function is createRoute() which generates a random route (chromosome) from a set of City instances."
   ]
  },
  {
   "cell_type": "code",
   "execution_count": null,
   "id": "1f9ac614",
   "metadata": {},
   "outputs": [],
   "source": [
    "def createRoute(cityList):\n",
    "    route = random.sample(cityList, len(cityList))\n",
    "    return route"
   ]
  },
  {
   "cell_type": "markdown",
   "id": "f0c11bbb",
   "metadata": {},
   "source": [
    "The third function is initialPopulation() which calls the second function repeatedly to create an initial population (a list of routes)."
   ]
  },
  {
   "cell_type": "code",
   "execution_count": null,
   "id": "4ae07df2",
   "metadata": {},
   "outputs": [],
   "source": [
    "def initialPopulation(popSize, cityList):\n",
    "    population = []\n",
    "    for i in range(0, popSize):\n",
    "        population.append(createRoute(cityList))\n",
    "    return population"
   ]
  },
  {
   "cell_type": "markdown",
   "id": "ed5c9a1d",
   "metadata": {},
   "source": [
    "You can run the above functions using the sample runs below. To do so, simply change the cell type from Markdown to Code, and remove the codeblocks backticks.\n",
    "\n",
    "Sample run 1 initializes 10 cities in cityList as follows:"
   ]
  },
  {
   "cell_type": "markdown",
   "id": "dbce56f2",
   "metadata": {},
   "source": [
    "```\n",
    "cityList = genCityList('cities10.txt') \n",
    "print(cityList)\n",
    "```"
   ]
  },
  {
   "cell_type": "markdown",
   "id": "00b4e341",
   "metadata": {},
   "source": [
    "Sample run 2 initializes 10 cities in cityList and creates a population with three routes as follows:"
   ]
  },
  {
   "cell_type": "markdown",
   "id": "e7f8538a",
   "metadata": {},
   "source": [
    "```\n",
    "cityList = genCityList('cities10.txt') \n",
    "population = initialPopulation(3, cityList) \n",
    "print(population)\n",
    "```"
   ]
  },
  {
   "cell_type": "markdown",
   "id": "f8aac59f",
   "metadata": {},
   "source": [
    "## Selection"
   ]
  },
  {
   "cell_type": "markdown",
   "id": "cb5cfd2d",
   "metadata": {},
   "source": [
    "Parents selection selects chromosomes with high fitness values from a population. Survivor selection selects chromosomes with higher fitness values to form the population of the next generation. The population size is len(population), so we have len(population) in this population. "
   ]
  },
  {
   "cell_type": "markdown",
   "id": "91040238",
   "metadata": {},
   "source": [
    "### Parent Selection\n",
    "\n",
    "There are three implementations for parent selection. The first parentSelection() performs random selection."
   ]
  },
  {
   "cell_type": "code",
   "execution_count": null,
   "id": "3add27f7",
   "metadata": {},
   "outputs": [],
   "source": [
    "def randomParentSelection(population, poolSize=None, remove_duplicate=False):\n",
    "    if poolSize == None:\n",
    "        poolSize = len(population)\n",
    "        \n",
    "    matingPool = []\n",
    "    population = population.copy()\n",
    "    \n",
    "    for i in range(0, poolSize):\n",
    "        candidate = random.choice(population)\n",
    "        if remove_duplicate:\n",
    "            population.remove(candidate)\n",
    "        matingPool.append(candidate)\n",
    "      \n",
    "    return matingPool"
   ]
  },
  {
   "cell_type": "markdown",
   "id": "7d7aedb6",
   "metadata": {},
   "source": [
    "The second parentSelection() performs Tournament Selection."
   ]
  },
  {
   "cell_type": "code",
   "execution_count": null,
   "id": "53e6ed39",
   "metadata": {},
   "outputs": [],
   "source": [
    "def tournamentParentSelection(population, poolSize=None, remove_duplicate=False, tournament_size=3):\n",
    "    \n",
    "    # TODO 2 (10 marks) - Replace the dummy parent selection function below with  \n",
    "    # Tournament Selection.\n",
    "      \n",
    "    # Marking scheme: \n",
    "    # 7 to 10 marks:  Correct implementation. \n",
    "    # 5 to <7 marks:  Minor errors.\n",
    "    # >0 to <5 marks: Major errors. \n",
    "    # 0 marks:        No answer is given. \n",
    "    \n",
    "    # You will need to compare the performance achieved by Random Selection, \n",
    "    # Tournament Selection, and Proportional Selection during performance evaluation \n",
    "    # later. So, you will run either Random Selection, Tournament Selection, or \n",
    "    # Proportional Selection in a simulation run.\n",
    "    \n",
    "    if poolSize == None:\n",
    "        poolSize = len(population)\n",
    "    \n",
    "    matingPool = []\n",
    "    population = population.copy()\n",
    "\n",
    "    # Save the fitness of each individual in the population in a list\n",
    "    fitnessList = [Fitness(ind).routeFitness() for ind in population]\n",
    "\n",
    "    for i in range(0, poolSize):\n",
    "        tournament_indice = random.sample(range(len(population)), tournament_size)\n",
    "        tournament_fitness = [fitnessList[i] for i in tournament_indice]\n",
    "        tournament_population = [population[i] for i in tournament_indice]\n",
    "\n",
    "        best_fitness = max(tournament_fitness)\n",
    "        best_index = tournament_fitness.index(best_fitness)\n",
    "        best_individual = tournament_population[best_index]\n",
    "\n",
    "        if remove_duplicate:\n",
    "            population.remove(best_individual)\n",
    "            fitnessList.remove(best_fitness)\n",
    "\n",
    "        matingPool.append(best_individual)\n",
    "\n",
    "    return matingPool"
   ]
  },
  {
   "cell_type": "markdown",
   "id": "c7b36603",
   "metadata": {},
   "source": [
    "**Example usage**\n",
    "```\n",
    "population = initialPopulation(100000, cityList)\n",
    "poolSize = 2\n",
    "tournament_size = 20000\n",
    "\n",
    "selected_parents = tournamentParentSelection(population, poolSize, tournament_size)\n",
    "for i, parent in enumerate(selected_parents):\n",
    "    fitness = Fitness(parent).routeFitness()\n",
    "    print(f\"Selected parent {i+1}: Fitness: {fitness}\")\n",
    "```"
   ]
  },
  {
   "cell_type": "markdown",
   "id": "4bb238e2",
   "metadata": {},
   "source": [
    "The third parentSelection() performs Proportional Selection."
   ]
  },
  {
   "cell_type": "code",
   "execution_count": null,
   "id": "2ccaef4a",
   "metadata": {},
   "outputs": [],
   "source": [
    "def proportionalParentSelection(population, poolSize=None, remove_duplicate=False):\n",
    "    \n",
    "    # TODO 3 (10 marks) - Replace the dummy parent selection function below with  \n",
    "    # Proportional Selection.\n",
    "      \n",
    "    # Marking scheme: \n",
    "    # 7 to 10 marks:  Correct implementation. \n",
    "    # 5 to <7 marks:  Minor errors.\n",
    "    # >0 to <5 marks: Major errors. \n",
    "    # 0 marks:        No answer is given. \n",
    "    \n",
    "    # You will need to compare the performance achieved by Random Selection, \n",
    "    # Tournament Selection, and Proportional Selection during performance evaluation \n",
    "    # later. So, you will run either Random Selection, Tournament Selection, or \n",
    "    # Proportional Selection in a simulation run.\n",
    "    \n",
    "    if poolSize == None:\n",
    "        poolSize = len(population)\n",
    "        \n",
    "    matingPool = []\n",
    "    population = population.copy()\n",
    "\n",
    "    # Save the fitness of each individual in the population in a list\n",
    "    fitnessList = [Fitness(ind).routeFitness() for ind in population]\n",
    "\n",
    "    # Calculate the total fitness of the population\n",
    "    total_fitness = np.sum(fitnessList)\n",
    "    \n",
    "    for i in range(0, poolSize):\n",
    "        # Generate a random number between 0 and the total fitness\n",
    "        rand = random.uniform(0, total_fitness)\n",
    "        current_sum = 0\n",
    "        \n",
    "        # Iterate through individuals and accumulate fitness values\n",
    "        for index, individual in enumerate(population):\n",
    "            current_sum += fitnessList[index]\n",
    "            if current_sum > rand:\n",
    "                if remove_duplicate:\n",
    "                    population.pop(index)\n",
    "                    fitnessList.pop(index)\n",
    "                    total_fitness = np.sum(fitnessList)\n",
    "                matingPool.append(individual)\n",
    "                break\n",
    "    \n",
    "    return matingPool"
   ]
  },
  {
   "cell_type": "markdown",
   "id": "0555cbcf",
   "metadata": {},
   "source": [
    "**Example usage**\n",
    "```\n",
    "population = initialPopulation(1000000, cityList)\n",
    "poolSize = 2\n",
    "\n",
    "selected_parents = propotionalParentSelection(population, poolSize)\n",
    "for i, parent in enumerate(selected_parents):\n",
    "    fitness = Fitness(parent).routeFitness()\n",
    "    print(f\"Selected parent {i+1}: Fitness: {fitness}\")\n",
    "```"
   ]
  },
  {
   "cell_type": "markdown",
   "id": "767df4e1",
   "metadata": {},
   "source": [
    "### Survival Selection"
   ]
  },
  {
   "cell_type": "code",
   "execution_count": null,
   "id": "80f74e5a",
   "metadata": {},
   "outputs": [],
   "source": [
    "def survivorSelection(population, eliteSize):\n",
    "    \n",
    "    # TODO 4 (10 marks) - Replace the dummy survival selection function below with  \n",
    "    # Merge, Sort & Truncate.\n",
    "      \n",
    "    # Marking scheme: \n",
    "    # 7 to 10 marks:  Correct implementation. \n",
    "    # 5 to <7 marks:  Minor errors.\n",
    "    # >0 to <5 marks: Major errors. \n",
    "    # 0 marks:        No answer is given. \n",
    "    \n",
    "    elites = []\n",
    "\n",
    "    # Sort population by fitness\n",
    "    elites = population.sort(key=lambda x: Fitness(x).routeFitness(), reverse=True)\n",
    "\n",
    "    # Truncate population to eliteSize\n",
    "    elites = population[:eliteSize]\n",
    "\n",
    "    return elites"
   ]
  },
  {
   "cell_type": "markdown",
   "id": "c003d631",
   "metadata": {},
   "source": [
    "You can run the above functions using the sample runs below. To do so, simply change the cell type from Markdown to Code, and remove the codeblocks backticks. \n",
    "\n",
    "Sample run 1 initializes 10 cities in cityList, creates a population with four routes, and creates a pool of parents as follows:"
   ]
  },
  {
   "cell_type": "markdown",
   "id": "cb064cc7",
   "metadata": {},
   "source": [
    "```\n",
    "population = initialPopulation(4, genCityList('cities10.txt'))\n",
    "matingpool = parentSelection(population, 4) \n",
    "print('Initial population') \n",
    "print(population) \n",
    "print('Mating pool') \n",
    "print(matingpool)\n",
    "```"
   ]
  },
  {
   "cell_type": "markdown",
   "id": "c4431342",
   "metadata": {},
   "source": [
    "Sample run 2 initializes 10 cities in cityList, creates a population with four routes, select an elite chromosome as follows:"
   ]
  },
  {
   "cell_type": "markdown",
   "id": "d5a0593b",
   "metadata": {},
   "source": [
    "```\n",
    "population = initialPopulation(4, genCityList('cities10.txt'))\n",
    "elites = survivorSelection(population, 1)\n",
    "print('Initial population')\n",
    "print(population)\n",
    "print('Selected elites')\n",
    "print(elites)\n",
    "```"
   ]
  },
  {
   "cell_type": "markdown",
   "id": "ebba82a2",
   "metadata": {},
   "source": [
    "## Crossover\n"
   ]
  },
  {
   "cell_type": "markdown",
   "id": "3c655d11",
   "metadata": {},
   "source": [
    "Crossover selects two parents, crossover the genetic materials of the parents, and produce one or more children. In the Travelling Salesman Problem, each travelling path must be valid. Each path consists all cities in the set, and each path visits each of the cities once only. So, none of the cities are visited more than once. Exchanging parts of two chromosomes tend to produce invalid paths. As an example, Parent 1 is [2 1 0 7 3 5 4 6] and Parent 2 is [6 1 0 5 2 3 4 7]. One point crossover at midpoint generates Child 1 [2 1 0 7 2 3 4 7] and Child 2 [6 1 0 5 3 5 4 6]. Both children are invalid paths.     "
   ]
  },
  {
   "cell_type": "code",
   "execution_count": null,
   "id": "2bb0c8be",
   "metadata": {},
   "outputs": [],
   "source": [
    "def crossover(parent1, parent2):\n",
    "\n",
    "    # TODO 5 (10 marks) - Replace the dummy crossover function below with \n",
    "    # Partially Mapped Crossover approach.\n",
    "   \n",
    "    # Marking scheme: \n",
    "    # 7 to 10 marks:  Correct implementation. \n",
    "    # 5 to <7 marks:  Minor errors.\n",
    "    # >0 to <5 marks: Major errors. \n",
    "    # 0 marks:        No answer is given. \n",
    "    \n",
    "    # Define random crossover points\n",
    "    crossover_points = sorted(random.sample(range(len(parent1)), 2))\n",
    "    start_point, end_point = crossover_points\n",
    "    \n",
    "    # Initialize child chromosomes\n",
    "    child1 = [-1] * len(parent1)\n",
    "    child2 = [-1] * len(parent2)\n",
    "    \n",
    "    # Copy the crossover segment from parents to children\n",
    "    child1[start_point:end_point+1] = parent1[start_point:end_point+1]\n",
    "    child2[start_point:end_point+1] = parent2[start_point:end_point+1]\n",
    "    \n",
    "    # Map genes from the second parent to the first child\n",
    "    for i in range(start_point, end_point+1):\n",
    "        if parent2[i] not in child1:\n",
    "            index = parent2.index(parent1[i])\n",
    "            while child1[index] != -1:\n",
    "                index = parent2.index(parent1[index])\n",
    "            child1[index] = parent2[i]\n",
    "    \n",
    "    # Map genes from the first parent to the second child\n",
    "    for i in range(start_point, end_point+1):\n",
    "        if parent1[i] not in child2:\n",
    "            index = parent1.index(parent2[i])\n",
    "            while child2[index] != -1:\n",
    "                index = parent1.index(parent2[index])\n",
    "            child2[index] = parent1[i]\n",
    "    \n",
    "    # Fill in the remaining genes using the remaining genes of the parents\n",
    "    for i in range(len(parent1)):\n",
    "        if child1[i] == -1:\n",
    "            child1[i] = parent2[i]\n",
    "        if child2[i] == -1:\n",
    "            child2[i] = parent1[i]\n",
    "    \n",
    "    return child1, child2"
   ]
  },
  {
   "cell_type": "markdown",
   "id": "48ca735c",
   "metadata": {},
   "source": [
    "Crossover selects two parents from the mating pool to produce a new generation of the same size."
   ]
  },
  {
   "cell_type": "code",
   "execution_count": null,
   "id": "308e4680",
   "metadata": {},
   "outputs": [],
   "source": [
    "def breedPopulation(matingpool):\n",
    "    children = []\n",
    "    \n",
    "    # Choosing parents in their order of presence in the mating pool. Choosing parents\n",
    "    # in a random manner is possible. \n",
    "    \n",
    "    for i in range(1, len(matingpool), 2):\n",
    "        child1, child2 = crossover(matingpool[i-1], matingpool[i])\n",
    "        children.append(child1)\n",
    "        children.append(child2)\n",
    "    \n",
    "    return children"
   ]
  },
  {
   "cell_type": "markdown",
   "id": "2152fd9e",
   "metadata": {},
   "source": [
    "You can run the above functions using the sample run below. To do so, simply change the cell type from Markdown to Code, and remove the codeblocks backticks. The sample run initializes 2 chromosomes in the population, and performs crossover among the two parents. "
   ]
  },
  {
   "cell_type": "markdown",
   "id": "7b02b58d",
   "metadata": {},
   "source": [
    "```\n",
    "population = initialPopulation(2, genCityList('cities10.txt'))\n",
    "parent1, parent2 = population\n",
    "child1, child2 = crossover(parent1, parent2)\n",
    "print('Parents')\n",
    "print(parent1)\n",
    "print(parent2)\n",
    "print('Children')\n",
    "print(child1)\n",
    "print(child2)\n",
    "```"
   ]
  },
  {
   "cell_type": "markdown",
   "id": "0508e984",
   "metadata": {},
   "source": [
    "## Mutation"
   ]
  },
  {
   "cell_type": "markdown",
   "id": "e741bcba",
   "metadata": {},
   "source": [
    "Mutation mutates a single chromosome to get a mutated chromosome so that genetic algorithm can converge to a shorter path quickly. In the Travelling Saleman Problem, a mutated chromosome must be a valid path. As an example, the insertion mutation randomly inserts a single gene in the [1 2 3 4 5 6 7 8 9 10] chromosome to generate the [1 2 4 5 6 7 3 8 9 10] mutated chromosome. Step 1: select a gene randomly, Step 2: insert this gene into a randomly selected location."
   ]
  },
  {
   "cell_type": "code",
   "execution_count": null,
   "id": "fcc4c53b",
   "metadata": {},
   "outputs": [],
   "source": [
    "def mutate(route, mutationProbability):\n",
    "    \n",
    "    # TODO 6 (10 marks) - Replace the dummy mutation function below with Insertion Mutation.\n",
    "    # The dummy mutation function simply swaps a city with the city before it.  \n",
    "   \n",
    "    # Marking scheme: \n",
    "    # 7 to 10 marks:  Correct implementation. \n",
    "    # 5 to <7 marks:  Minor errors.\n",
    "    # >0 to <5 marks: Major errors. \n",
    "    # 0 marks:        No answer is given. \n",
    "     \n",
    "    mutated_route = route[:]\n",
    "\n",
    "    for i in range(len(route)):\n",
    "        if (random.random() < mutationProbability):\n",
    "            # mutationProbability is the probability of a gene undergoing mutation\n",
    "            \n",
    "            # Select a random position to insert the gene\n",
    "            insert_position = random.randint(0, len(route) - 1)\n",
    "            \n",
    "            # Get the gene to be moved\n",
    "            gene_to_move = mutated_route[i]\n",
    "            \n",
    "            # Remove the gene from its original position\n",
    "            mutated_route.remove(gene_to_move)\n",
    "            \n",
    "            # Insert the gene at the new position\n",
    "            mutated_route.insert(insert_position, gene_to_move)\n",
    "            \n",
    "    return mutated_route"
   ]
  },
  {
   "cell_type": "markdown",
   "id": "561658a7",
   "metadata": {},
   "source": [
    "Mutation runs over the entire population and mutates each chromosome in the population with a small mutationProbability. "
   ]
  },
  {
   "cell_type": "code",
   "execution_count": null,
   "id": "18bcf873",
   "metadata": {},
   "outputs": [],
   "source": [
    "def mutation(population, mutationProbability):\n",
    "    mutatedPopulation = []\n",
    "    for i in range(0, len(population)):\n",
    "        mutatedIndividual = mutate(population[i], mutationProbability)\n",
    "        mutatedPopulation.append(mutatedIndividual)\n",
    "    return mutatedPopulation"
   ]
  },
  {
   "cell_type": "markdown",
   "id": "e2c7728f",
   "metadata": {},
   "source": [
    "You can run the above functions using the sample run below. To do so, simply change the cell type from Markdown to Code, and remove the codeblocks backticks. The sample run initializes a route comprised of 10 cities in cityList, and then mutates it as follows:"
   ]
  },
  {
   "cell_type": "markdown",
   "id": "4b9fa051",
   "metadata": {},
   "source": [
    "```\n",
    "route = genCityList('cities10.txt')\n",
    "mutated = mutate(route, 1)  # Give a pretty high chance for mutation\n",
    "print('Original route')\n",
    "print(route)\n",
    "print('Mutated route')\n",
    "print(mutated)\n",
    "```"
   ]
  },
  {
   "cell_type": "markdown",
   "id": "1c0cf960",
   "metadata": {},
   "source": [
    "## Running One Generation (or Interation)"
   ]
  },
  {
   "cell_type": "markdown",
   "id": "2e4e26f5",
   "metadata": {},
   "source": [
    "Here, we run one generation of genetic algorithm. "
   ]
  },
  {
   "cell_type": "code",
   "execution_count": null,
   "id": "57f76661",
   "metadata": {},
   "outputs": [],
   "source": [
    "def oneGeneration(population, eliteSize, mutationProbability, parentType='random', remove_duplicate=False, tournament_size=3):\n",
    "    \n",
    "    # First we preserve the elites\n",
    "    elites = survivorSelection(population, eliteSize)\n",
    "    \n",
    "    # Then we calculate what our mating pool size should be and generate\n",
    "    # the mating pool\n",
    "    poolSize = len(population) - eliteSize\n",
    "    match parentType:\n",
    "        case 'tournament':\n",
    "            matingpool = tournamentParentSelection(population, poolSize, remove_duplicate, tournament_size)\n",
    "        case 'proportional':\n",
    "            matingpool = proportionalParentSelection(population, poolSize, remove_duplicate)\n",
    "        case _:\n",
    "            matingpool = randomParentSelection(population, poolSize, remove_duplicate)\n",
    "        \n",
    "    # Then we perform crossover on the mating pool\n",
    "    children = breedPopulation(matingpool)\n",
    "    \n",
    "    # We combine the elites and children into one population\n",
    "    new_population = elites + children\n",
    "    \n",
    "    # We mutate the population\n",
    "    mutated_population = mutation(new_population, mutationProbability)\n",
    "        \n",
    "    return mutated_population"
   ]
  },
  {
   "cell_type": "markdown",
   "id": "daa87ed8",
   "metadata": {},
   "source": [
    "You can run the above functions using the sample run below. To do so, simply change the cell type from Markdown to Code, and remove the codeblocks backticks. The sample run initializes a population comprised of 5 chromosomes based on 10 cities in cityList, and then run one generation (or iteration) of genetic algorithm as follows:"
   ]
  },
  {
   "cell_type": "markdown",
   "id": "0f2a347b",
   "metadata": {},
   "source": [
    "```\n",
    "population = initialPopulation(5, genCityList('cities10.txt'))\n",
    "eliteSize = 1\n",
    "mutationProbability = 0.01\n",
    "new_population = oneGeneration(population, eliteSize, mutationProbability)\n",
    "print('Initial population')\n",
    "print(population)\n",
    "print('New population')\n",
    "print(new_population)\n",
    "```"
   ]
  },
  {
   "cell_type": "markdown",
   "id": "500893f7",
   "metadata": {},
   "source": [
    "## Running Many Generations (or Iterations) "
   ]
  },
  {
   "cell_type": "code",
   "execution_count": null,
   "id": "cc61b752",
   "metadata": {},
   "outputs": [],
   "source": [
    "# %%prun -s cumulative -q -l 50 -T profiler.txt\n",
    "def singleRun(filename, pop, eliteSize, mutationProbability, iteration, parent, prevent_parent_duplicate, tournament_size, run_id, write_file=False):\n",
    "    cityList = genCityList(filename)\n",
    "    iter_min_dist = []\n",
    "    iter_best_route = []\n",
    "\n",
    "    population = initialPopulation(pop, cityList)\n",
    "    distances = [Fitness(p).routeDistance() for p in population]\n",
    "    index = np.argmin(distances)\n",
    "\n",
    "    min_dist = min(distances)\n",
    "    iter_min_dist.append(min_dist)\n",
    "    iter_best_route.append(population[index])\n",
    "\n",
    "    print(\"Run: \" + run_id)\n",
    "    print(\"Best distance for initial population: \" + str(min_dist))\n",
    "\n",
    "    for i in range(iteration):\n",
    "        population = oneGeneration(population, eliteSize, mutationProbability, parent, prevent_parent_duplicate, tournament_size)\n",
    "        distances = [Fitness(p).routeDistance() for p in population]\n",
    "        index = np.argmin(distances)\n",
    "\n",
    "        best_route = population[index]\n",
    "        min_dist = min(distances)\n",
    "\n",
    "        if write_file:\n",
    "            with open(run_id + '.csv', 'a+', newline='') as file:\n",
    "                writer = csv.writer(file)\n",
    "                writer.writerow([i, min_dist, best_route])\n",
    "\n",
    "        iter_min_dist.append(min_dist)\n",
    "        iter_best_route.append(best_route)\n",
    "\n",
    "        print(\"Best distance for population in iteration \" + str(i) +\n",
    "            \": \" + str(min_dist) + \", best distance so far: \" + str(min(iter_min_dist)))\n",
    "\n",
    "    print(\"Optimal path for last iteration is \" + str(best_route)) \n",
    "    print(\"Optimal path for all iterations is \" + str(iter_best_route[np.argmin(iter_min_dist)]))\n",
    "\n",
    "    return min(iter_min_dist)\n",
    "\n",
    "    # TODO 7 (10 marks) - Performance Evaluation. You will present the performance achieved \n",
    "    # by different parent selection function. You will compare the \n",
    "    # performance achieved by Random Selection, Tournament Selection, and Proportional Selection. \n",
    "   \n",
    "    # Marking scheme: \n",
    "    # 7 to 10 marks:  In-depth performance evaluation. Optimal routes are found. \n",
    "    # 5 to <7 marks:  Clear understanding of performance evaluation.\n",
    "    # >0 to <5 marks: Inaccurate or unclear understanding of performance evaluation. \n",
    "    # 0 marks:        No answer is given. \n"
   ]
  },
  {
   "cell_type": "markdown",
   "id": "643264e5",
   "metadata": {},
   "source": [
    "## Setting up default and custom parameters"
   ]
  },
  {
   "cell_type": "code",
   "execution_count": null,
   "id": "09a1f2f3",
   "metadata": {},
   "outputs": [],
   "source": [
    "filename = 'cities734.txt'\n",
    "parents = ['random', 'tournament', 'proportional']\n",
    "\n",
    "iteration_limit = 250\n",
    "prevent_parent_duplicate = True\n",
    "\n",
    "default_parent = 'tournament'\n",
    "default_popSize = 50\n",
    "default_eliteProportion = 0.3\n",
    "default_mutationProbability = 0.00015\n",
    "default_tournamentProportion = 0.2 # was 0.1\n",
    "\n",
    "# Testing various hyperparameters, in such order using default values, non-nested\n",
    "# 1. Tournament Mutation Probability: 0.00001, 0.00005, 0.0001, 0.0002, 0.0003, 0.0004, 0.0008\n",
    "# 2. Proportional Mutation Probability: 0.00001, 0.00005, 0.0001, 0.0002, 0.0003, 0.0004, 0.0008\n",
    "# 2. Elite Percentage: 10%, 20%, 30%, 50%\n",
    "# 3. Population Size: 30, 50, 80, 100\n",
    "# 4. Parent Selection Method: Random, Tournament, Proportional\n",
    "# 5. Tournament Proportion (Tournament Only): 5%, 10%, 20%, 30%\n",
    "\n",
    "# Run 1 & 2 will be repeated 10 times to get the average result\n",
    "# The rest will be repeated 20 times to get the average result\n",
    "# The best run will determine the default hyperparameters for the next run\n",
    "\n",
    "mutation_probabilities = [0.00001, 0.00005, 0.0001, 0.0002, 0.0003, 0.0004, 0.0008]\n",
    "elite_proportions = [0.1, 0.2, 0.3, 0.5]\n",
    "population_sizes = [30, 50, 80, 100]\n",
    "parent_methods = ['random', 'tournament', 'proportional']\n",
    "tournament_proportions = [0.05, 0.1, 0.2, 0.3]\n",
    "repeat = range(20)\n",
    "\n",
    "Tmutations = {}\n",
    "Pmutations = {}\n",
    "elites = {}\n",
    "pops = {}\n",
    "parents = {}\n",
    "tournaments = {}"
   ]
  },
  {
   "cell_type": "markdown",
   "id": "ef7607cf",
   "metadata": {},
   "source": [
    "## Runner codebox"
   ]
  },
  {
   "cell_type": "code",
   "execution_count": null,
   "id": "b3f1a792",
   "metadata": {},
   "outputs": [],
   "source": [
    "# Use this to run the GA algorithm once\n",
    "\n",
    "parent = 'random'\n",
    "iteration = 10000\n",
    "\n",
    "pop = default_popSize\n",
    "eliteSize = int(pop * default_eliteProportion)\n",
    "mutationProbability = default_mutationProbability\n",
    "tournament_size = int(pop * default_tournament_proportion)\n",
    "    \n",
    "singleRun(filename, pop, eliteSize, mutationProbability, iteration, parent, prevent_parent_duplicate, tournament_size, parent, write_file=True)"
   ]
  },
  {
   "cell_type": "markdown",
   "id": "18a75939",
   "metadata": {},
   "source": [
    "# Running hyperparameter testing"
   ]
  },
  {
   "cell_type": "code",
   "execution_count": null,
   "id": "45e4e760",
   "metadata": {},
   "outputs": [],
   "source": [
    "for tournament in tournament_proportions:\n",
    "    pop = default_popSize\n",
    "    eliteSize = int(pop * default_eliteProportion)\n",
    "    mut = default_mutationProbability\n",
    "    parent = default_parent\n",
    "    tournament_count = int(tournament * pop)\n",
    "\n",
    "    for i in repeat:\n",
    "        print(\"Tournament size: \" + str(tournament_count))\n",
    "        run_id = \"tournament_\" + str(tournament_count) + \"_run_\" + str(i)\n",
    "        bestRun = singleRun(filename, pop, eliteSize, mut, iteration_limit, parent, prevent_parent_duplicate, tournament_count, run_id)\n",
    "        \n",
    "        if tournament not in tournaments:\n",
    "            tournaments[tournament] = []\n",
    "        tournaments[tournament].append(bestRun)\n",
    "\n",
    "with open('tournaments.json', 'w') as fp:\n",
    "    json.dump(tournaments, fp, indent=4)"
   ]
  },
  {
   "cell_type": "code",
   "execution_count": null,
   "id": "f52dd9da",
   "metadata": {},
   "outputs": [],
   "source": [
    "for parent in parent_methods:\n",
    "    pop = default_popSize\n",
    "    eliteSize = int(pop * default_eliteProportion)\n",
    "    mut = default_mutationProbability\n",
    "    tournament_count = int(default_tournamentProportion * pop)\n",
    "\n",
    "    for i in repeat:\n",
    "        print(\"Parent method: \" + parent)\n",
    "        run_id = \"parent_\" + parent + \"_run_\" + str(i)\n",
    "        bestRun = singleRun(filename, pop, eliteSize, mut, iteration_limit, parent, prevent_parent_duplicate, tournament_count, run_id)\n",
    "        \n",
    "        if parent not in parents:\n",
    "            parents[parent] = []\n",
    "        parents[parent].append(bestRun)\n",
    "\n",
    "with open('parents.json', 'w') as fp:\n",
    "    json.dump(parents, fp, indent=4)"
   ]
  },
  {
   "cell_type": "code",
   "execution_count": null,
   "id": "ac4ec555",
   "metadata": {},
   "outputs": [],
   "source": [
    "for pop in population_sizes:\n",
    "    eliteSize = int(pop * default_eliteProportion)\n",
    "    mut = default_mutationProbability\n",
    "    parent = default_parent\n",
    "    tournament_count = int(default_tournamentProportion * pop)\n",
    "\n",
    "    for i in repeat:\n",
    "        print(\"Population: \" + str(pop))\n",
    "        run_id = \"pop_\" + str(pop) + \"_run_\" + str(i)\n",
    "        bestRun = singleRun(filename, pop, eliteSize, mut, iteration_limit, parent, prevent_parent_duplicate, tournament_count, run_id)\n",
    "        \n",
    "        if pop not in pops:\n",
    "            pops[pop] = []\n",
    "        pops[pop].append(bestRun)\n",
    "\n",
    "with open('pops.json', 'w') as fp:\n",
    "    json.dump(pops, fp, indent=4)"
   ]
  },
  {
   "cell_type": "code",
   "execution_count": null,
   "id": "90f92f2b",
   "metadata": {},
   "outputs": [],
   "source": [
    "for e in elite_percentages:\n",
    "    pop = default_popSize\n",
    "    eliteSize = int(pop * e)\n",
    "    mut = default_mutationProbability\n",
    "    parent = default_parent\n",
    "    tournament_count = int(0.1 * pop) # tournament size must be smaller than elite size\n",
    "\n",
    "    for i in repeat:\n",
    "        print(\"Elite Percentage: \" + str(e))\n",
    "        run_id = \"elite_\" + str(e) + \"_run_\" + str(i)\n",
    "        bestRun = singleRun(filename, pop, eliteSize, mut, iteration_limit, parent, prevent_parent_duplicate, tournament_count, run_id)\n",
    "        \n",
    "        if e not in elite:\n",
    "            elite[e] = []\n",
    "        elite[e].append(bestRun)\n",
    "\n",
    "with open('elite.json', 'w') as fp:\n",
    "    json.dump(elite, fp, indent=4)"
   ]
  },
  {
   "cell_type": "code",
   "execution_count": null,
   "id": "135de23e",
   "metadata": {},
   "outputs": [],
   "source": [
    "for mut in mutation_probabilities:\n",
    "    pop = default_popSize\n",
    "    eliteSize = int(default_eliteProportion * pop)\n",
    "    parent = default_parent\n",
    "    tournament_count = int(default_tournamentProportion * pop)\n",
    "\n",
    "    for i in repeat:\n",
    "        print(\"Mutation Probability: \" + str(mut))\n",
    "        run_id = \"T_mutation_\" + str(mut) + \"_run_\" + str(i)\n",
    "        bestRun = singleRun(filename, pop, eliteSize, mut, iteration_limit, parent, prevent_parent_duplicate, tournament_count, run_id)\n",
    "\n",
    "        if mut not in Tmutation:\n",
    "            Tmutation[mut] = []\n",
    "        Tmutation[mut].append(bestRun)\n",
    "\n",
    "    parent = 'proportional'\n",
    "\n",
    "    for i in repeat:\n",
    "        print(\"Mutation Probability: \" + str(mut))\n",
    "        run_id = \"P_mutation_\" + str(mut) + \"_run_\" + str(i)\n",
    "        bestRun = singleRun(filename, pop, eliteSize, mut, iteration_limit, parent, prevent_parent_duplicate, tournament_count, run_id)\n",
    "\n",
    "        if mut not in Pmutation:\n",
    "            Pmutation[mut] = []\n",
    "        Pmutation[mut].append(bestRun)\n",
    "\n",
    "with open('Tmutation.json', 'w') as fp:\n",
    "    json.dump(Tmutation, fp)\n",
    "\n",
    "with open('Pmutation.json', 'w') as fp:\n",
    "    json.dump(Pmutation, fp)\n"
   ]
  }
 ],
 "metadata": {
  "kernelspec": {
   "display_name": "Python 3 (ipykernel)",
   "language": "python",
   "name": "python3"
  },
  "language_info": {
   "codemirror_mode": {
    "name": "ipython",
    "version": 3
   },
   "file_extension": ".py",
   "mimetype": "text/x-python",
   "name": "python",
   "nbconvert_exporter": "python",
   "pygments_lexer": "ipython3",
   "version": "3.11.4"
  }
 },
 "nbformat": 4,
 "nbformat_minor": 5
}
